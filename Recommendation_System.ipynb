{
  "nbformat": 4,
  "nbformat_minor": 0,
  "metadata": {
    "colab": {
      "name": "Recommendation System.ipynb",
      "provenance": [],
      "collapsed_sections": [],
      "authorship_tag": "ABX9TyP6THFsCKl5AzEjiYdiiZB4",
      "include_colab_link": true
    },
    "kernelspec": {
      "name": "python3",
      "display_name": "Python 3"
    },
    "accelerator": "GPU"
  },
  "cells": [
    {
      "cell_type": "markdown",
      "metadata": {
        "id": "view-in-github",
        "colab_type": "text"
      },
      "source": [
        "<a href=\"https://colab.research.google.com/github/james811223/Recommender-system/blob/master/Recommendation_System.ipynb\" target=\"_parent\"><img src=\"https://colab.research.google.com/assets/colab-badge.svg\" alt=\"Open In Colab\"/></a>"
      ]
    },
    {
      "cell_type": "markdown",
      "metadata": {
        "id": "nB69FlbGgWvz",
        "colab_type": "text"
      },
      "source": [
        "# Set up"
      ]
    },
    {
      "cell_type": "code",
      "metadata": {
        "id": "gpJhQp_D29c6",
        "colab_type": "code",
        "colab": {}
      },
      "source": [
        "!wget http://deepyeti.ucsd.edu/jianmo/amazon/metaFiles/meta_Digital_Music.json.gz\n",
        "!gunzip meta_Digital_Music.json.gz\n",
        "!wget http://deepyeti.ucsd.edu/jianmo/amazon/categoryFilesSmall/Digital_Music_5.json.gz\n",
        "!gunzip Digital_Music_5.json.gz\n",
        "!apt-get install openjdk-8-jdk-headless -qq > /dev/null\n",
        "!wget -q https://apache.osuosl.org/spark/spark-3.0.0/spark-3.0.0-bin-hadoop3.2.tgz\n",
        "!tar -xvf spark-3.0.0-bin-hadoop3.2.tgz\n",
        "!pip install -q findspark\n",
        "import os, findspark, pandas as pd, seaborn as sns, matplotlib.pyplot as plt\n",
        "os.environ[\"JAVA_HOME\"] = \"/usr/lib/jvm/java-8-openjdk-amd64\"\n",
        "os.environ[\"SPARK_HOME\"] = \"/content/spark-3.0.0-bin-hadoop3.2\"\n",
        "findspark.init()\n",
        "from pyspark.sql import SparkSession, functions as f, types\n",
        "spark = SparkSession.builder.master(\"local[*]\").getOrCreate()\n",
        "from pyspark.ml.evaluation import RegressionEvaluator\n",
        "from pyspark.ml.recommendation import ALS\n",
        "from pyspark.ml.tuning import TrainValidationSplit, ParamGridBuilder, CrossValidator\n",
        "%matplotlib inline"
      ],
      "execution_count": null,
      "outputs": []
    },
    {
      "cell_type": "code",
      "metadata": {
        "id": "alzcGeXCzUlI",
        "colab_type": "code",
        "colab": {}
      },
      "source": [
        "sns.set_style('darkgrid',{'figure.facecolor': 'lightblue'})"
      ],
      "execution_count": 3,
      "outputs": []
    },
    {
      "cell_type": "markdown",
      "metadata": {
        "id": "91Ii5XG21jJb",
        "colab_type": "text"
      },
      "source": [
        "# Load and wrangle data"
      ]
    },
    {
      "cell_type": "code",
      "metadata": {
        "id": "13yKPdBQyig6",
        "colab_type": "code",
        "colab": {}
      },
      "source": [
        "review = spark.read.json('Digital_Music_5.json')\n",
        "meta_data = spark.read.json('meta_Digital_Music.json')"
      ],
      "execution_count": 4,
      "outputs": []
    },
    {
      "cell_type": "code",
      "metadata": {
        "id": "QwsPFagTklp2",
        "colab_type": "code",
        "colab": {}
      },
      "source": [
        "def show_missing_count(df):\n",
        "    '''Show missing data count and %'''\n",
        "    exp = [f'cast(round(mean(int(isnull({c}))) * 100,2) as string) as {c}' for c in df.columns]\n",
        "    t2 = df.selectExpr(*exp)\n",
        "    exp = [f.concat(f.col(c),f.lit('% missing')).alias(c) for c in t2.columns]\n",
        "    t2 = t2.select(*exp)\n",
        "    exp = [f'cast(sum(int(isnull({c}))) as string) as {c}' for c in df.columns]\n",
        "    t1 = df.selectExpr(*exp)\n",
        "    t1.union(t2).show()"
      ],
      "execution_count": 5,
      "outputs": []
    },
    {
      "cell_type": "code",
      "metadata": {
        "id": "WuzxHSDPr1-W",
        "colab_type": "code",
        "colab": {
          "base_uri": "https://localhost:8080/",
          "height": 158
        },
        "outputId": "3d0e0111-e128-4ed5-8215-e2064c22c4cf"
      },
      "source": [
        "show_missing_count(review)"
      ],
      "execution_count": 6,
      "outputs": [
        {
          "output_type": "stream",
          "text": [
            "+------------+--------------+------------+-------------+------------+------------+------------+-------------+-------------+--------------+------------+--------------+\n",
            "|        asin|         image|     overall|   reviewText|  reviewTime|  reviewerID|reviewerName|        style|      summary|unixReviewTime|    verified|          vote|\n",
            "+------------+--------------+------------+-------------+------------+------------+------------+-------------+-------------+--------------+------------+--------------+\n",
            "|           0|        169599|           0|          158|           0|           0|           5|        11792|           36|             0|           0|        162170|\n",
            "|0.0% missing|99.89% missing|0.0% missing|0.09% missing|0.0% missing|0.0% missing|0.0% missing|6.95% missing|0.02% missing|  0.0% missing|0.0% missing|95.52% missing|\n",
            "+------------+--------------+------------+-------------+------------+------------+------------+-------------+-------------+--------------+------------+--------------+\n",
            "\n"
          ],
          "name": "stdout"
        }
      ]
    },
    {
      "cell_type": "markdown",
      "metadata": {
        "id": "Y8i6Im4tvxg5",
        "colab_type": "text"
      },
      "source": [
        "A little missing values, but not too much."
      ]
    },
    {
      "cell_type": "code",
      "metadata": {
        "id": "Pz9RZQeRz0JV",
        "colab_type": "code",
        "colab": {
          "base_uri": "https://localhost:8080/",
          "height": 158
        },
        "outputId": "1b6bdbcb-82f4-4b99-9567-5756d6ba0cae"
      },
      "source": [
        "show_missing_count(meta_data)"
      ],
      "execution_count": 7,
      "outputs": [
        {
          "output_type": "stream",
          "text": [
            "+--------------+--------------+------------+--------------+--------------+--------------+--------------+-------------+--------------+--------------+--------------+--------------+-------------+--------------+\n",
            "|      also_buy|     also_view|        asin|         brand|      category|          date|   description|      details|       feature|         image|      main_cat|         price|         rank|         title|\n",
            "+--------------+--------------+------------+--------------+--------------+--------------+--------------+-------------+--------------+--------------+--------------+--------------+-------------+--------------+\n",
            "|        356915|        417184|           0|        405018|        465385|        465387|        428522|         1540|        465304|        441985|        465391|        419679|        20985|         69940|\n",
            "|76.69% missing|89.64% missing|0.0% missing|87.03% missing|100.0% missing|100.0% missing|92.08% missing|0.33% missing|99.98% missing|94.97% missing|100.0% missing|90.18% missing|4.51% missing|15.03% missing|\n",
            "+--------------+--------------+------------+--------------+--------------+--------------+--------------+-------------+--------------+--------------+--------------+--------------+-------------+--------------+\n",
            "\n"
          ],
          "name": "stdout"
        }
      ]
    },
    {
      "cell_type": "markdown",
      "metadata": {
        "id": "ElEAkLTG0CA9",
        "colab_type": "text"
      },
      "source": [
        "Too much missing data. Only asin and title will be used."
      ]
    },
    {
      "cell_type": "markdown",
      "metadata": {
        "id": "W33uOv0os1bv",
        "colab_type": "text"
      },
      "source": [
        "**Select only columns that will be used.**\n"
      ]
    },
    {
      "cell_type": "code",
      "metadata": {
        "id": "aryUSwYjt3-J",
        "colab_type": "code",
        "colab": {}
      },
      "source": [
        "review = review.select('asin', 'overall', 'reviewerID', 'style')\n",
        "meta_data = meta_data.select('asin', 'title')"
      ],
      "execution_count": 8,
      "outputs": []
    },
    {
      "cell_type": "code",
      "metadata": {
        "id": "B_8L7-kR0rAF",
        "colab_type": "code",
        "colab": {
          "base_uri": "https://localhost:8080/",
          "height": 173
        },
        "outputId": "97654b63-3e10-4d74-fe88-8b731511f84e"
      },
      "source": [
        "review.show(3)"
      ],
      "execution_count": 9,
      "outputs": [
        {
          "output_type": "stream",
          "text": [
            "+----------+-------+--------------+-----------+\n",
            "|      asin|overall|    reviewerID|      style|\n",
            "+----------+-------+--------------+-----------+\n",
            "|3426958910|    5.0|A2TYZ821XXK2YZ|[ Audio CD]|\n",
            "|3426958910|    5.0|A3OFSREZADFUDY|[ Audio CD]|\n",
            "|3426958910|    5.0|A2VAMODP8M77NG|[ Audio CD]|\n",
            "+----------+-------+--------------+-----------+\n",
            "only showing top 3 rows\n",
            "\n"
          ],
          "name": "stdout"
        }
      ]
    },
    {
      "cell_type": "code",
      "metadata": {
        "id": "au4nttyn0VSR",
        "colab_type": "code",
        "colab": {
          "base_uri": "https://localhost:8080/",
          "height": 294
        },
        "outputId": "186128dc-c62f-4fb1-d279-41a64575a199"
      },
      "source": [
        "review.select('style').distinct().show()"
      ],
      "execution_count": 10,
      "outputs": [
        {
          "output_type": "stream",
          "text": [
            "+-----------------+\n",
            "|            style|\n",
            "+-----------------+\n",
            "|             null|\n",
            "|[ Audio Cassette]|\n",
            "|           [ DVD]|\n",
            "|     [ MP3 Music]|\n",
            "|     [ DVD Audio]|\n",
            "|         [ Vinyl]|\n",
            "|      [ Audio CD]|\n",
            "|       [ Blu-ray]|\n",
            "| [ Blu-ray Audio]|\n",
            "|  [ Amazon Video]|\n",
            "|   [ Vinyl Bound]|\n",
            "+-----------------+\n",
            "\n"
          ],
          "name": "stdout"
        }
      ]
    },
    {
      "cell_type": "markdown",
      "metadata": {
        "id": "S9HjxdtZ0wSZ",
        "colab_type": "text"
      },
      "source": [
        "**style format cleaning**"
      ]
    },
    {
      "cell_type": "code",
      "metadata": {
        "id": "33YMILAY2rrU",
        "colab_type": "code",
        "colab": {}
      },
      "source": [
        "review = review.withColumn('style', review.style.cast('string'))\n",
        "review = review.withColumn('style', f.regexp_extract('style',r'\\[(.+)\\]',1).alias('style'))"
      ],
      "execution_count": 11,
      "outputs": []
    },
    {
      "cell_type": "code",
      "metadata": {
        "id": "IfUDfgfK7R7z",
        "colab_type": "code",
        "colab": {
          "base_uri": "https://localhost:8080/",
          "height": 123
        },
        "outputId": "8306c648-56d4-45b0-c252-776d241dfb71"
      },
      "source": [
        "meta_data.sample(.00001).collect()"
      ],
      "execution_count": 12,
      "outputs": [
        {
          "output_type": "execute_result",
          "data": {
            "text/plain": [
              "[Row(asin='B00BCJBGFQ', title='\">\\n         \\n     \\n\\n\\n\\n\\n    \\n\\n    \\n    \\n    \\n        \\n            \\n                \\n\\t                \\n\\t                \\n\\t                \\t\\n\\n\\nEdge, Vol. 1: Here\\'s My Home'),\n",
              " Row(asin='B00CB67MQ6', title='\">\\n         \\n     \\n\\n\\n\\n\\n    \\n\\n    \\n    \\n    \\n        \\n            \\n                \\n\\t                \\n\\t                \\n\\t                \\t\\n\\n\\nChina - Parts 1 & 2'),\n",
              " Row(asin='B00HW5I4VS', title='\">\\n         \\n     \\n\\n\\n\\n\\n    \\n\\n    \\n    \\n    \\n        \\n            \\n                \\n\\t                \\n\\t                \\n\\t                \\t\\n\\n\\nJourney To You'),\n",
              " Row(asin='B00WTNH3RE', title='\">\\n         \\n     \\n\\n\\n\\n\\n    \\n\\n    \\n    \\n    \\n        \\n            \\n                \\n\\t                \\n\\t                \\n\\t                \\t\\n\\n\\nThe Genius That Was Oderus [Explicit]'),\n",
              " Row(asin='B0155426ZM', title='\">\\n         \\n     \\n\\n\\n\\n\\n    \\n\\n    \\n    \\n    \\n        \\n            \\n                \\n\\t                \\n\\t                \\n\\t                \\t\\n\\n\\nMy Stupid Heart')]"
            ]
          },
          "metadata": {
            "tags": []
          },
          "execution_count": 12
        }
      ]
    },
    {
      "cell_type": "markdown",
      "metadata": {
        "id": "nTf2DyeRJ57V",
        "colab_type": "text"
      },
      "source": [
        "Something is wrong with the format of title."
      ]
    },
    {
      "cell_type": "markdown",
      "metadata": {
        "id": "J36x6ZKOJ_EL",
        "colab_type": "text"
      },
      "source": [
        "**Clean up title's format**"
      ]
    },
    {
      "cell_type": "code",
      "metadata": {
        "id": "gXJO4-a1LJ1Y",
        "colab_type": "code",
        "colab": {}
      },
      "source": [
        "meta_data = meta_data.withColumn('title', f.regexp_extract('title',r'([A-Z].+)', 1))"
      ],
      "execution_count": 13,
      "outputs": []
    },
    {
      "cell_type": "markdown",
      "metadata": {
        "id": "H_yXcIG80YMm",
        "colab_type": "text"
      },
      "source": [
        "**Join 2 dataframes**"
      ]
    },
    {
      "cell_type": "code",
      "metadata": {
        "id": "E1F8nyao7WA-",
        "colab_type": "code",
        "colab": {}
      },
      "source": [
        "joined_df = review.join(meta_data, on = 'asin', how = 'left')"
      ],
      "execution_count": 14,
      "outputs": []
    },
    {
      "cell_type": "markdown",
      "metadata": {
        "id": "RPoDm5w90eSX",
        "colab_type": "text"
      },
      "source": [
        "**Rename overall as rating**"
      ]
    },
    {
      "cell_type": "code",
      "metadata": {
        "id": "IXAbdpvc95l3",
        "colab_type": "code",
        "colab": {}
      },
      "source": [
        "joined_df = joined_df.selectExpr('asin', 'overall as rating', 'reviewerID', 'style', 'title')"
      ],
      "execution_count": 15,
      "outputs": []
    },
    {
      "cell_type": "markdown",
      "metadata": {
        "id": "ZtWYImHJHuLL",
        "colab_type": "text"
      },
      "source": [
        "# EDA"
      ]
    },
    {
      "cell_type": "markdown",
      "metadata": {
        "id": "ZXvOXaEZHyWX",
        "colab_type": "text"
      },
      "source": [
        "**Which musics have 5 star ratings with a lot of reviews?**"
      ]
    },
    {
      "cell_type": "code",
      "metadata": {
        "id": "MGm6htnWH6c_",
        "colab_type": "code",
        "colab": {
          "base_uri": "https://localhost:8080/",
          "height": 295
        },
        "outputId": "2090caf3-7f48-4f1c-df0f-85ddb797852e"
      },
      "source": [
        "high_rating = joined_df.groupby('asin', 'title').agg(f.mean('rating').alias('rating'), f.count('rating').alias('reviews'))\\\n",
        ".sort('reviews','rating', ascending = 1 == 2)\n",
        "tdf = high_rating.limit(10).toPandas()\n",
        "tdf.title = [t if t is not None else i for t, i in zip(tdf.title, tdf.asin)]\n",
        "p = sns.barplot('reviews', 'title', data = tdf)\n",
        "plt.title('Most reviewed musics with average rating')\n",
        "plt.ylabel('')\n",
        "for i, s in tdf.iterrows():\n",
        "    p.text(s['reviews'] / 2, i, round(s['rating'],1), ha = 'center', va = 'center', size = 15)"
      ],
      "execution_count": null,
      "outputs": [
        {
          "output_type": "display_data",
          "data": {
            "image/png": "[encoded data removed]",
            "text/plain": [
              "<Figure size 432x288 with 1 Axes>"
            ]
          },
          "metadata": {
            "tags": []
          }
        }
      ]
    },
    {
      "cell_type": "markdown",
      "metadata": {
        "id": "BWUfslLyhERW",
        "colab_type": "text"
      },
      "source": [
        "**Which styles of musics have a lot of reviews and what are the average ratings?**"
      ]
    },
    {
      "cell_type": "code",
      "metadata": {
        "colab_type": "code",
        "id": "kRLdAYLvezPb",
        "colab": {
          "base_uri": "https://localhost:8080/",
          "height": 295
        },
        "outputId": "ff328d00-30df-45ac-fcd3-be1d7dcb71dd"
      },
      "source": [
        "style = joined_df.dropna(subset = ['style']).groupby('style').agg(f.mean('rating').alias('rating'), f.count('rating').alias('reviews'))\\\n",
        ".sort('reviews', 'rating', ascending = 1 == 2)\n",
        "tdf = style.limit(10).toPandas()\n",
        "tdf.rating = tdf.rating.map(lambda x: round(x, 2))\n",
        "p = sns.barplot('rating', 'style', data = tdf, color = 'b')\n",
        "plt.title('Most reviewed music styles with average rating')\n",
        "plt.ylabel('')\n",
        "plt.xlim(right = 5.5)\n",
        "for i, s in tdf.iterrows():\n",
        "    p.text(0.05, i, str(s['reviews']) + ' reviews', ha = 'left', va = 'center', size = 15, color = 'w')\n",
        "    p.text(s['rating'], i, round(s['rating'],1), ha = 'left', va = 'center', size = 15)"
      ],
      "execution_count": null,
      "outputs": [
        {
          "output_type": "display_data",
          "data": {
            "image/png": "[encoded data removed]",
            "text/plain": [
              "<Figure size 432x288 with 1 Axes>"
            ]
          },
          "metadata": {
            "tags": []
          }
        }
      ]
    },
    {
      "cell_type": "markdown",
      "metadata": {
        "id": "8gNSROkfmQVC",
        "colab_type": "text"
      },
      "source": [
        "# Preprocessing & Modeling"
      ]
    },
    {
      "cell_type": "markdown",
      "metadata": {
        "id": "2sfLVuVrrS9S",
        "colab_type": "text"
      },
      "source": [
        "**Split data into training and testing set**"
      ]
    },
    {
      "cell_type": "code",
      "metadata": {
        "id": "JAcf0W2xmS8u",
        "colab_type": "code",
        "colab": {}
      },
      "source": [
        "train, test, val = joined_df.randomSplit([.8, .15, .05])"
      ],
      "execution_count": 16,
      "outputs": []
    },
    {
      "cell_type": "markdown",
      "metadata": {
        "id": "QT5Jd5f_2MKN",
        "colab_type": "text"
      },
      "source": [
        "**Create numeric user and item ids for PySpark ALS model**"
      ]
    },
    {
      "cell_type": "code",
      "metadata": {
        "id": "CLhcJq2HdGgG",
        "colab_type": "code",
        "colab": {}
      },
      "source": [
        "union = train.unionAll(test)\n",
        "item = union.select('asin').distinct().selectExpr('asin','row_number() over(order by asin) as item')\n",
        "user = union.select('reviewerID').distinct().selectExpr('reviewerID','row_number() over(order by reviewerID) as user')\n",
        "train = train.join(item, on = 'asin').join(user, on = 'reviewerID')\n",
        "test = test.join(item, on = 'asin').join(user, on = 'reviewerID')"
      ],
      "execution_count": 17,
      "outputs": []
    },
    {
      "cell_type": "markdown",
      "metadata": {
        "id": "pze4HYyXGnml",
        "colab_type": "text"
      },
      "source": [
        "**Check data types**"
      ]
    },
    {
      "cell_type": "code",
      "metadata": {
        "id": "XuT8VcxsGqT9",
        "colab_type": "code",
        "colab": {
          "base_uri": "https://localhost:8080/",
          "height": 173
        },
        "outputId": "2a9000d5-36ad-4070-ff3a-14e076a45455"
      },
      "source": [
        "train.printSchema()"
      ],
      "execution_count": null,
      "outputs": [
        {
          "output_type": "stream",
          "text": [
            "root\n",
            " |-- reviewerID: string (nullable = true)\n",
            " |-- asin: string (nullable = true)\n",
            " |-- rating: double (nullable = true)\n",
            " |-- style: string (nullable = true)\n",
            " |-- title: string (nullable = true)\n",
            " |-- item: integer (nullable = true)\n",
            " |-- user: integer (nullable = true)\n",
            "\n"
          ],
          "name": "stdout"
        }
      ]
    },
    {
      "cell_type": "markdown",
      "metadata": {
        "id": "gDnhzdadrZ3O",
        "colab_type": "text"
      },
      "source": [
        "**Define ALS model**"
      ]
    },
    {
      "cell_type": "code",
      "metadata": {
        "id": "fm7jYrdnm6vH",
        "colab_type": "code",
        "colab": {}
      },
      "source": [
        "als = ALS(coldStartStrategy = 'drop', nonnegative = 1 == 1)\n",
        "als.setPredictionCol('prediction')"
      ],
      "execution_count": null,
      "outputs": []
    },
    {
      "cell_type": "markdown",
      "metadata": {
        "id": "QhqasGQ_rfxP",
        "colab_type": "text"
      },
      "source": [
        "**Perform hyperparameter tuning**"
      ]
    },
    {
      "cell_type": "code",
      "metadata": {
        "id": "eHeu7aDirQ6m",
        "colab_type": "code",
        "colab": {}
      },
      "source": [
        "grid = ParamGridBuilder().addGrid(als.rank, [5, 10, 15]).addGrid(als.maxIter, [18, 19, 20]).addGrid(als.regParam, [.17, .18, .19]).build()\n",
        "cv = CrossValidator(estimator = als, estimatorParamMaps = grid, evaluator = RegressionEvaluator(labelCol = 'rating'))\n",
        "model = cv.fit(train)"
      ],
      "execution_count": null,
      "outputs": []
    },
    {
      "cell_type": "markdown",
      "metadata": {
        "id": "M_qyp4W-i_sX",
        "colab_type": "text"
      },
      "source": [
        "**Testing data set MAE score**"
      ]
    },
    {
      "cell_type": "code",
      "metadata": {
        "id": "pq6u_7hDWVaa",
        "colab_type": "code",
        "colab": {
          "base_uri": "https://localhost:8080/",
          "height": 34
        },
        "outputId": "4887778e-aa93-439f-e368-bf83499a44e0"
      },
      "source": [
        "RegressionEvaluator(labelCol = 'rating', metricName='mae').evaluate(model.transform(test))"
      ],
      "execution_count": null,
      "outputs": [
        {
          "output_type": "execute_result",
          "data": {
            "text/plain": [
              "0.2751473090702802"
            ]
          },
          "metadata": {
            "tags": []
          },
          "execution_count": 20
        }
      ]
    },
    {
      "cell_type": "markdown",
      "metadata": {
        "id": "BEAINrcVSnzl",
        "colab_type": "text"
      },
      "source": [
        "**Class to use for recommendations**"
      ]
    },
    {
      "cell_type": "code",
      "metadata": {
        "id": "DVinJMt6SypQ",
        "colab_type": "code",
        "colab": {}
      },
      "source": [
        "add = user.selectExpr('max(user) as mx').collect()[0].mx\n",
        "class recommender:\n",
        "    def __init__(self, rating_df):\n",
        "        '''\n",
        "        The class makes recommendations.\n",
        "        Initialize the class with a Spark dataframe including columns reviewerID, asin, & overall.\n",
        "        '''\n",
        "        users = rating_df.select('reviewerID').distinct().selectExpr('reviewerID','row_number() over(order by reviewerID) as user')\n",
        "        self.user = users.withColumn('user', users.user + f.lit(add))\n",
        "        self.user = self.user.unionAll(user)\n",
        "        self.df = rating_df.selectExpr('reviewerID', 'asin', 'overall as rating').join(item, on = 'asin').join(self.user, on = 'reviewerID')\n",
        "\n",
        "    def recommend(self, subset = None, n = 5, user = 1 == 1):\n",
        "        '''\n",
        "        Recommend n items/users for each users/items.\n",
        "        subset(list of user/item ids) - Subset of reviewerID/asin to recommend.\n",
        "        Returns a list if recommending for single user/item, otherwise a spark dataframe would be returned.\n",
        "        '''\n",
        "        rec = getattr(model.bestModel, 'recommendForUserSubset' if user else 'recommendForItemSubset')\n",
        "        user2user_df = self.user if user else item\n",
        "        user2item_df = item if user else self.user\n",
        "        user2user = 'user' if user else 'item'\n",
        "        user2rev = 'reviewerID' if user else 'asin'\n",
        "        user2asin = 'asin' if user else 'reviewerID'\n",
        "        user2item = 'item' if user else 'user'\n",
        "        if subset != None:\n",
        "            if not type(subset) == list:\n",
        "                raise ValueError('subset must be a list if specified.')\n",
        "            count = len(subset)\n",
        "            exp = ','.join([f'\"{x}\"' for x in subset])\n",
        "            df = self.df.where(f'{user2rev} in ({exp})')  \n",
        "        else:\n",
        "            df = self.df\n",
        "            count = df.select(user2user).distinct().count()\n",
        "        if df.count() == 0: return print('user/item not found')\n",
        "        rec_df = rec(df, n)\n",
        "        if count == 1:\n",
        "            recommendations = [r.recommendations for r in rec_df.collect()][0]\n",
        "            ids = [getattr(r, user2item) for r in recommendations]\n",
        "            return [getattr(r, user2asin) for r in user2item_df.collect() if getattr(r, user2item) in ids]\n",
        "        else:\n",
        "            def get_suggestions(x):\n",
        "                id_list = [getattr(r, user2item) for r in x]\n",
        "                exp = ','.join([str(i) for i in id_list])\n",
        "                pdf = user2item_df.where(f'{user2item} in ({exp})').toPandas()\n",
        "                return pdf[user2asin].to_list()\n",
        "            ans = [(getattr(r, user2user), get_suggestions(r.recommendations)) for r in rec_df.collect()]\n",
        "            ids_type = types.StructField(user2user, types.IntegerType())\n",
        "            suggestions_type = types.StructField('recommendations', types.ArrayType(types.StringType()))\n",
        "            rec_df = spark.createDataFrame(ans, schema = types.StructType([ids_type, suggestions_type])) \n",
        "            return rec_df.join(user2user_df, on = user2user).select(user2rev, 'recommendations')"
      ],
      "execution_count": null,
      "outputs": []
    },
    {
      "cell_type": "markdown",
      "metadata": {
        "id": "LWdCZBK7je1-",
        "colab_type": "text"
      },
      "source": [
        "**Recommend users for item(s)**"
      ]
    },
    {
      "cell_type": "code",
      "metadata": {
        "id": "rPmiH_SAkwwf",
        "colab_type": "code",
        "colab": {
          "base_uri": "https://localhost:8080/",
          "height": 138
        },
        "outputId": "11dbafa9-a200-4928-f9f1-40aef91a681f"
      },
      "source": [
        "tt = recommender(val.withColumnRenamed('rating', 'overall'))\n",
        "tt.recommend(subset = [\"B000TDYS56\", \"B0012EELIK\"], user = 1 == 2).show()"
      ],
      "execution_count": null,
      "outputs": [
        {
          "output_type": "stream",
          "text": [
            "+----------+--------------------+\n",
            "|      asin|     recommendations|\n",
            "+----------+--------------------+\n",
            "|B0012EELIK|[A16FF6XI97ULV6, ...|\n",
            "|B000TDYS56|[A1L1VZ854S2FB2, ...|\n",
            "+----------+--------------------+\n",
            "\n"
          ],
          "name": "stdout"
        }
      ]
    },
    {
      "cell_type": "code",
      "metadata": {
        "id": "gMv0yQ09ktCK",
        "colab_type": "code",
        "colab": {
          "base_uri": "https://localhost:8080/",
          "height": 103
        },
        "outputId": "673e3096-101d-43ec-c960-c17308e002c4"
      },
      "source": [
        "tt.recommend(subset = [\"B000TDYS56\"], user = 1 == 2)"
      ],
      "execution_count": null,
      "outputs": [
        {
          "output_type": "execute_result",
          "data": {
            "text/plain": [
              "['A1L1VZ854S2FB2',\n",
              " 'A2IOOH76T0G1MU',\n",
              " 'A38MP32CYE67B3',\n",
              " 'A3KEFQBHCUP788',\n",
              " 'ACT7HS5RPNU5P']"
            ]
          },
          "metadata": {
            "tags": []
          },
          "execution_count": 92
        }
      ]
    },
    {
      "cell_type": "markdown",
      "metadata": {
        "id": "gNtNJ25DjmuW",
        "colab_type": "text"
      },
      "source": [
        "**Recommend items to users**"
      ]
    },
    {
      "cell_type": "code",
      "metadata": {
        "id": "l3rzMQ6tiMmx",
        "colab_type": "code",
        "colab": {
          "base_uri": "https://localhost:8080/",
          "height": 138
        },
        "outputId": "73e2006b-a5f4-4045-a2cc-47f8d859e173"
      },
      "source": [
        "tt.recommend(subset = [\"A39BN484AZ9NMW\", \"A3U3XGI6UL76H8\"]).show()"
      ],
      "execution_count": null,
      "outputs": [
        {
          "output_type": "stream",
          "text": [
            "+--------------+--------------------+\n",
            "|    reviewerID|     recommendations|\n",
            "+--------------+--------------------+\n",
            "|A39BN484AZ9NMW|[B00136PQ72, B001...|\n",
            "|A3U3XGI6UL76H8|[B000VWP5PW, B001...|\n",
            "+--------------+--------------------+\n",
            "\n"
          ],
          "name": "stdout"
        }
      ]
    }
  ]
}